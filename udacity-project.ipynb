{
  "cells": [
    {
      "cell_type": "code",
      "execution_count": 1,
      "metadata": {
        "gather": {
          "logged": 1645348761381
        }
      },
      "outputs": [
        {
          "name": "stderr",
          "output_type": "stream",
          "text": [
            "Failure while loading azureml_run_type_providers. Failed to load entrypoint hyperdrive = azureml.train.hyperdrive:HyperDriveRun._from_run_dto with exception (msrest 0.6.19 (c:\\users\\aldam\\anaconda3\\lib\\site-packages), Requirement.parse('msrest>=0.6.21'), {'azure-mgmt-resource', 'azure-mgmt-keyvault', 'azure-mgmt-storage', 'azure-mgmt-containerregistry'}).\n",
            "Failure while loading azureml_run_type_providers. Failed to load entrypoint automl = azureml.train.automl.run:AutoMLRun._from_run_dto with exception (msrest 0.6.19 (c:\\users\\aldam\\anaconda3\\lib\\site-packages), Requirement.parse('msrest>=0.6.21'), {'azure-mgmt-resource', 'azure-mgmt-keyvault', 'azure-mgmt-storage', 'azure-mgmt-containerregistry'}).\n",
            "Failure while loading azureml_run_type_providers. Failed to load entrypoint azureml.PipelineRun = azureml.pipeline.core.run:PipelineRun._from_dto with exception (msrest 0.6.19 (c:\\users\\aldam\\anaconda3\\lib\\site-packages), Requirement.parse('msrest>=0.6.21'), {'azure-mgmt-resource', 'azure-mgmt-keyvault', 'azure-mgmt-storage', 'azure-mgmt-containerregistry'}).\n",
            "Failure while loading azureml_run_type_providers. Failed to load entrypoint azureml.ReusedStepRun = azureml.pipeline.core.run:StepRun._from_reused_dto with exception (msrest 0.6.19 (c:\\users\\aldam\\anaconda3\\lib\\site-packages), Requirement.parse('msrest>=0.6.21'), {'azure-mgmt-resource', 'azure-mgmt-keyvault', 'azure-mgmt-storage', 'azure-mgmt-containerregistry'}).\n",
            "Failure while loading azureml_run_type_providers. Failed to load entrypoint azureml.StepRun = azureml.pipeline.core.run:StepRun._from_dto with exception (msrest 0.6.19 (c:\\users\\aldam\\anaconda3\\lib\\site-packages), Requirement.parse('msrest>=0.6.21'), {'azure-mgmt-resource', 'azure-mgmt-keyvault', 'azure-mgmt-storage', 'azure-mgmt-containerregistry'}).\n",
            "Failure while loading azureml_run_type_providers. Failed to load entrypoint azureml.scriptrun = azureml.core.script_run:ScriptRun._from_run_dto with exception (msrest 0.6.19 (c:\\users\\aldam\\anaconda3\\lib\\site-packages), Requirement.parse('msrest>=0.6.21'), {'azure-mgmt-resource', 'azure-mgmt-keyvault', 'azure-mgmt-storage', 'azure-mgmt-containerregistry'}).\n"
          ]
        },
        {
          "ename": "UserErrorException",
          "evalue": "UserErrorException:\n\tMessage: You are currently logged-in to 660b3398-b80e-49d2-bc5b-ac1dc93b5254 tenant. You don't have access to 2c48c51c-bd47-40d4-abbe-fb8eabd19c8c subscription, please check if it is in this tenant. All the subscriptions that you have access to in this tenant are = \n [SubscriptionInfo(subscription_name='Udacity CloudLabs Sub - 09', subscription_id='a24a24d5-8d87-4c8a-99b6-91ed2d2df51f'), SubscriptionInfo(subscription_name='Udacity CloudLabs Sub - 07', subscription_id='48a74bb7-9950-4cc1-9caa-5d50f995cc55'), SubscriptionInfo(subscription_name='Udacity CloudLabs Sub - 06', subscription_id='5a4ab2ba-6c51-4805-8155-58759ad589d8'), SubscriptionInfo(subscription_name='Udacity CloudLabs Sub - 04', subscription_id='f9d5a085-54dc-4215-9ba6-dad5d86e60a0')]. \n Please refer to aka.ms/aml-notebook-auth for different authentication mechanisms in azureml-sdk.\n\tInnerException None\n\tErrorResponse \n{\n    \"error\": {\n        \"code\": \"UserError\",\n        \"message\": \"You are currently logged-in to 660b3398-b80e-49d2-bc5b-ac1dc93b5254 tenant. You don't have access to 2c48c51c-bd47-40d4-abbe-fb8eabd19c8c subscription, please check if it is in this tenant. All the subscriptions that you have access to in this tenant are = \\n [SubscriptionInfo(subscription_name='Udacity CloudLabs Sub - 09', subscription_id='a24a24d5-8d87-4c8a-99b6-91ed2d2df51f'), SubscriptionInfo(subscription_name='Udacity CloudLabs Sub - 07', subscription_id='48a74bb7-9950-4cc1-9caa-5d50f995cc55'), SubscriptionInfo(subscription_name='Udacity CloudLabs Sub - 06', subscription_id='5a4ab2ba-6c51-4805-8155-58759ad589d8'), SubscriptionInfo(subscription_name='Udacity CloudLabs Sub - 04', subscription_id='f9d5a085-54dc-4215-9ba6-dad5d86e60a0')]. \\n Please refer to aka.ms/aml-notebook-auth for different authentication mechanisms in azureml-sdk.\"\n    }\n}",
          "output_type": "error",
          "traceback": [
            "\u001b[1;31m---------------------------------------------------------------------------\u001b[0m",
            "\u001b[1;31mUserErrorException\u001b[0m                        Traceback (most recent call last)",
            "\u001b[1;32m<ipython-input-1-b7f8dec0a0c3>\u001b[0m in \u001b[0;36m<module>\u001b[1;34m\u001b[0m\n\u001b[0;32m      7\u001b[0m \u001b[0mworkspace\u001b[0m \u001b[1;33m=\u001b[0m \u001b[1;34m'quick-starts-ws-190128'\u001b[0m\u001b[1;33m\u001b[0m\u001b[1;33m\u001b[0m\u001b[0m\n\u001b[0;32m      8\u001b[0m \u001b[1;33m\u001b[0m\u001b[0m\n\u001b[1;32m----> 9\u001b[1;33m \u001b[0mws\u001b[0m \u001b[1;33m=\u001b[0m \u001b[0mWorkspace\u001b[0m\u001b[1;33m.\u001b[0m\u001b[0mget\u001b[0m\u001b[1;33m(\u001b[0m\u001b[0mname\u001b[0m\u001b[1;33m=\u001b[0m\u001b[0mworkspace\u001b[0m\u001b[1;33m,\u001b[0m \u001b[0msubscription_id\u001b[0m\u001b[1;33m=\u001b[0m\u001b[0msubscription\u001b[0m\u001b[1;33m,\u001b[0m \u001b[0mresource_group\u001b[0m\u001b[1;33m=\u001b[0m\u001b[0mrg\u001b[0m\u001b[1;33m)\u001b[0m\u001b[1;33m\u001b[0m\u001b[1;33m\u001b[0m\u001b[0m\n\u001b[0m\u001b[0;32m     10\u001b[0m \u001b[1;31m#ws = Workspace.from_config()\u001b[0m\u001b[1;33m\u001b[0m\u001b[1;33m\u001b[0m\u001b[1;33m\u001b[0m\u001b[0m\n\u001b[0;32m     11\u001b[0m \u001b[0mexp\u001b[0m \u001b[1;33m=\u001b[0m \u001b[0mExperiment\u001b[0m\u001b[1;33m(\u001b[0m\u001b[0mworkspace\u001b[0m\u001b[1;33m=\u001b[0m\u001b[0mws\u001b[0m\u001b[1;33m,\u001b[0m \u001b[0mname\u001b[0m\u001b[1;33m=\u001b[0m\u001b[0mexperiment_name\u001b[0m\u001b[1;33m)\u001b[0m\u001b[1;33m\u001b[0m\u001b[1;33m\u001b[0m\u001b[0m\n",
            "\u001b[1;32m~\\anaconda3\\lib\\site-packages\\azureml\\core\\workspace.py\u001b[0m in \u001b[0;36mget\u001b[1;34m(name, auth, subscription_id, resource_group, location, cloud, id)\u001b[0m\n\u001b[0;32m    594\u001b[0m             \u001b[0mauth\u001b[0m \u001b[1;33m=\u001b[0m \u001b[0mInteractiveLoginAuthentication\u001b[0m\u001b[1;33m(\u001b[0m\u001b[1;33m)\u001b[0m\u001b[1;33m\u001b[0m\u001b[1;33m\u001b[0m\u001b[0m\n\u001b[0;32m    595\u001b[0m \u001b[1;33m\u001b[0m\u001b[0m\n\u001b[1;32m--> 596\u001b[1;33m         return Workspace(\n\u001b[0m\u001b[0;32m    597\u001b[0m             \u001b[0msubscription_id\u001b[0m\u001b[1;33m,\u001b[0m\u001b[1;33m\u001b[0m\u001b[1;33m\u001b[0m\u001b[0m\n\u001b[0;32m    598\u001b[0m             \u001b[0mresource_group\u001b[0m\u001b[1;33m,\u001b[0m\u001b[1;33m\u001b[0m\u001b[1;33m\u001b[0m\u001b[0m\n",
            "\u001b[1;32m~\\anaconda3\\lib\\site-packages\\azureml\\core\\workspace.py\u001b[0m in \u001b[0;36m__init__\u001b[1;34m(self, subscription_id, resource_group, workspace_name, auth, _location, _disable_service_check, _workspace_id, sku, tags, _cloud)\u001b[0m\n\u001b[0;32m    202\u001b[0m \u001b[1;33m\u001b[0m\u001b[0m\n\u001b[0;32m    203\u001b[0m         \u001b[1;32mif\u001b[0m \u001b[1;32mnot\u001b[0m \u001b[0m_disable_service_check\u001b[0m\u001b[1;33m:\u001b[0m\u001b[1;33m\u001b[0m\u001b[1;33m\u001b[0m\u001b[0m\n\u001b[1;32m--> 204\u001b[1;33m             auto_rest_workspace = _commands.get_workspace(\n\u001b[0m\u001b[0;32m    205\u001b[0m                 auth, subscription_id, resource_group, workspace_name, _location, _cloud, _workspace_id)\n\u001b[0;32m    206\u001b[0m             \u001b[0mself\u001b[0m\u001b[1;33m.\u001b[0m\u001b[0m_workspace_autorest_object\u001b[0m \u001b[1;33m=\u001b[0m \u001b[0mauto_rest_workspace\u001b[0m\u001b[1;33m\u001b[0m\u001b[1;33m\u001b[0m\u001b[0m\n",
            "\u001b[1;32m~\\anaconda3\\lib\\site-packages\\azureml\\_project\\_commands.py\u001b[0m in \u001b[0;36mget_workspace\u001b[1;34m(auth, subscription_id, resource_group_name, workspace_name, location, cloud, workspace_id)\u001b[0m\n\u001b[0;32m    444\u001b[0m         \u001b[1;32melse\u001b[0m\u001b[1;33m:\u001b[0m\u001b[1;33m\u001b[0m\u001b[1;33m\u001b[0m\u001b[0m\n\u001b[0;32m    445\u001b[0m             \u001b[1;32mtry\u001b[0m\u001b[1;33m:\u001b[0m\u001b[1;33m\u001b[0m\u001b[1;33m\u001b[0m\u001b[0m\n\u001b[1;32m--> 446\u001b[1;33m                 workspaces = auth._get_service_client(\n\u001b[0m\u001b[0;32m    447\u001b[0m                     \u001b[0mAzureMachineLearningWorkspaces\u001b[0m\u001b[1;33m,\u001b[0m\u001b[1;33m\u001b[0m\u001b[1;33m\u001b[0m\u001b[0m\n\u001b[0;32m    448\u001b[0m                     subscription_id).workspaces\n",
            "\u001b[1;32m~\\anaconda3\\lib\\site-packages\\azureml\\core\\authentication.py\u001b[0m in \u001b[0;36m_get_service_client\u001b[1;34m(self, client_class, subscription_id, subscription_bound, base_url, is_check_subscription)\u001b[0m\n\u001b[0;32m    227\u001b[0m         \u001b[1;32mif\u001b[0m \u001b[0msubscription_id\u001b[0m \u001b[1;32mand\u001b[0m \u001b[0mis_check_subscription\u001b[0m\u001b[1;33m:\u001b[0m\u001b[1;33m\u001b[0m\u001b[1;33m\u001b[0m\u001b[0m\n\u001b[0;32m    228\u001b[0m             \u001b[0mall_subscription_list\u001b[0m\u001b[1;33m,\u001b[0m \u001b[0mtenant_id\u001b[0m \u001b[1;33m=\u001b[0m \u001b[0mself\u001b[0m\u001b[1;33m.\u001b[0m\u001b[0m_get_all_subscription_ids\u001b[0m\u001b[1;33m(\u001b[0m\u001b[1;33m)\u001b[0m\u001b[1;33m\u001b[0m\u001b[1;33m\u001b[0m\u001b[0m\n\u001b[1;32m--> 229\u001b[1;33m             \u001b[0mself\u001b[0m\u001b[1;33m.\u001b[0m\u001b[0m_check_if_subscription_exists\u001b[0m\u001b[1;33m(\u001b[0m\u001b[0msubscription_id\u001b[0m\u001b[1;33m,\u001b[0m \u001b[0mall_subscription_list\u001b[0m\u001b[1;33m,\u001b[0m \u001b[0mtenant_id\u001b[0m\u001b[1;33m)\u001b[0m\u001b[1;33m\u001b[0m\u001b[1;33m\u001b[0m\u001b[0m\n\u001b[0m\u001b[0;32m    230\u001b[0m \u001b[1;33m\u001b[0m\u001b[0m\n\u001b[0;32m    231\u001b[0m         \u001b[1;32mif\u001b[0m \u001b[1;32mnot\u001b[0m \u001b[0mbase_url\u001b[0m\u001b[1;33m:\u001b[0m\u001b[1;33m\u001b[0m\u001b[1;33m\u001b[0m\u001b[0m\n",
            "\u001b[1;32m~\\anaconda3\\lib\\site-packages\\azureml\\core\\authentication.py\u001b[0m in \u001b[0;36m_check_if_subscription_exists\u001b[1;34m(self, subscription_id, subscription_id_list, tenant_id)\u001b[0m\n\u001b[0;32m    686\u001b[0m \u001b[1;33m\u001b[0m\u001b[0m\n\u001b[0;32m    687\u001b[0m     \u001b[1;32mdef\u001b[0m \u001b[0m_check_if_subscription_exists\u001b[0m\u001b[1;33m(\u001b[0m\u001b[0mself\u001b[0m\u001b[1;33m,\u001b[0m \u001b[0msubscription_id\u001b[0m\u001b[1;33m,\u001b[0m \u001b[0msubscription_id_list\u001b[0m\u001b[1;33m,\u001b[0m \u001b[0mtenant_id\u001b[0m\u001b[1;33m)\u001b[0m\u001b[1;33m:\u001b[0m\u001b[1;33m\u001b[0m\u001b[1;33m\u001b[0m\u001b[0m\n\u001b[1;32m--> 688\u001b[1;33m         super(InteractiveLoginAuthentication, self)._check_if_subscription_exists(subscription_id,\n\u001b[0m\u001b[0;32m    689\u001b[0m                                                                                   subscription_id_list, tenant_id)\n\u001b[0;32m    690\u001b[0m \u001b[1;33m\u001b[0m\u001b[0m\n",
            "\u001b[1;32m~\\anaconda3\\lib\\site-packages\\azureml\\core\\authentication.py\u001b[0m in \u001b[0;36m_check_if_subscription_exists\u001b[1;34m(self, subscription_id, subscription_id_list, tenant_id)\u001b[0m\n\u001b[0;32m    335\u001b[0m                                                                                    subscription_id_list))\n\u001b[0;32m    336\u001b[0m         \u001b[1;32melse\u001b[0m\u001b[1;33m:\u001b[0m\u001b[1;33m\u001b[0m\u001b[1;33m\u001b[0m\u001b[0m\n\u001b[1;32m--> 337\u001b[1;33m             raise UserErrorException(\"You are currently logged-in to {} tenant. You don't have access \"\n\u001b[0m\u001b[0;32m    338\u001b[0m                                      \u001b[1;34m\"to {} subscription, please check if it is in this tenant. \"\u001b[0m\u001b[1;33m\u001b[0m\u001b[1;33m\u001b[0m\u001b[0m\n\u001b[0;32m    339\u001b[0m                                      \u001b[1;34m\"All the subscriptions that you have access to in this tenant are = \\n \"\u001b[0m\u001b[1;33m\u001b[0m\u001b[1;33m\u001b[0m\u001b[0m\n",
            "\u001b[1;31mUserErrorException\u001b[0m: UserErrorException:\n\tMessage: You are currently logged-in to 660b3398-b80e-49d2-bc5b-ac1dc93b5254 tenant. You don't have access to 2c48c51c-bd47-40d4-abbe-fb8eabd19c8c subscription, please check if it is in this tenant. All the subscriptions that you have access to in this tenant are = \n [SubscriptionInfo(subscription_name='Udacity CloudLabs Sub - 09', subscription_id='a24a24d5-8d87-4c8a-99b6-91ed2d2df51f'), SubscriptionInfo(subscription_name='Udacity CloudLabs Sub - 07', subscription_id='48a74bb7-9950-4cc1-9caa-5d50f995cc55'), SubscriptionInfo(subscription_name='Udacity CloudLabs Sub - 06', subscription_id='5a4ab2ba-6c51-4805-8155-58759ad589d8'), SubscriptionInfo(subscription_name='Udacity CloudLabs Sub - 04', subscription_id='f9d5a085-54dc-4215-9ba6-dad5d86e60a0')]. \n Please refer to aka.ms/aml-notebook-auth for different authentication mechanisms in azureml-sdk.\n\tInnerException None\n\tErrorResponse \n{\n    \"error\": {\n        \"code\": \"UserError\",\n        \"message\": \"You are currently logged-in to 660b3398-b80e-49d2-bc5b-ac1dc93b5254 tenant. You don't have access to 2c48c51c-bd47-40d4-abbe-fb8eabd19c8c subscription, please check if it is in this tenant. All the subscriptions that you have access to in this tenant are = \\n [SubscriptionInfo(subscription_name='Udacity CloudLabs Sub - 09', subscription_id='a24a24d5-8d87-4c8a-99b6-91ed2d2df51f'), SubscriptionInfo(subscription_name='Udacity CloudLabs Sub - 07', subscription_id='48a74bb7-9950-4cc1-9caa-5d50f995cc55'), SubscriptionInfo(subscription_name='Udacity CloudLabs Sub - 06', subscription_id='5a4ab2ba-6c51-4805-8155-58759ad589d8'), SubscriptionInfo(subscription_name='Udacity CloudLabs Sub - 04', subscription_id='f9d5a085-54dc-4215-9ba6-dad5d86e60a0')]. \\n Please refer to aka.ms/aml-notebook-auth for different authentication mechanisms in azureml-sdk.\"\n    }\n}"
          ]
        }
      ],
      "source": [
        "from azureml.core import Workspace, Experiment\n",
        "\n",
        "experiment_name = 'udacity-project-local'\n",
        "\n",
        "subscription = '2c48c51c-bd47-40d4-abbe-fb8eabd19c8c'\n",
        "rg = 'aml-quickstarts-190128'\n",
        "workspace = 'quick-starts-ws-190128'\n",
        "\n",
        "ws = Workspace.get(name=workspace, subscription_id=subscription, resource_group=rg)\n",
        "#ws = Workspace.from_config()\n",
        "exp = Experiment(workspace=ws, name=experiment_name)\n",
        "\n",
        "print('Workspace name: ' + ws.name, \n",
        "      'Azure region: ' + ws.location, \n",
        "      'Subscription id: ' + ws.subscription_id, \n",
        "      'Resource group: ' + ws.resource_group, sep = '\\n')\n",
        "\n",
        "run = exp.start_logging()"
      ]
    },
    {
      "cell_type": "code",
      "execution_count": null,
      "metadata": {
        "gather": {
          "logged": 1645348811098
        },
        "jupyter": {
          "outputs_hidden": false,
          "source_hidden": false
        },
        "nteract": {
          "transient": {
            "deleting": false
          }
        }
      },
      "outputs": [],
      "source": [
        "from azureml.core.compute import ComputeTarget, AmlCompute\n",
        "from azureml.core.compute_target import ComputeTargetException\n",
        "\n",
        "# TODO: Create compute cluster\n",
        "# Use vm_size = \"Standard_D2_V2\" in your provisioning configuration.\n",
        "# max_nodes should be no greater than 4.\n",
        "\n",
        "### YOUR CODE HERE ###\n",
        "compute_name= 'cpu-compute-trn'\n",
        "compute_size= 'Standard_D2_V2'\n",
        "\n",
        "try:\n",
        "    cpu_cluster_compute_target = ComputeTarget(workspace=ws, name=compute_name)\n",
        "    print('Found existing cluster, use it.')\n",
        "except ComputeTargetException:\n",
        "    compute_config = AmlCompute.provisioning_configuration(vm_size=compute_size, max_nodes=4)\n",
        "    cpu_cluster_compute_target = ComputeTarget.create(ws, compute_name, compute_config)\n",
        "cpu_cluster_compute_target.wait_for_completion(show_output=True)\n",
        "\n",
        "print(cpu_cluster_compute_target.get_status().serialize())"
      ]
    },
    {
      "cell_type": "code",
      "execution_count": null,
      "metadata": {
        "gather": {
          "logged": 1645348846737
        }
      },
      "outputs": [],
      "source": [
        "from azureml.widgets import RunDetails\n",
        "from azureml.train.sklearn import SKLearn\n",
        "from azureml.train.hyperdrive.run import PrimaryMetricGoal\n",
        "from azureml.train.hyperdrive.policy import BanditPolicy\n",
        "from azureml.train.hyperdrive.sampling import RandomParameterSampling\n",
        "from azureml.train.hyperdrive.runconfig import HyperDriveConfig\n",
        "from azureml.train.hyperdrive.parameter_expressions import uniform\n",
        "from azureml.train.hyperdrive import choice\n",
        "from azureml.core import ScriptRunConfig, Environment\n",
        "import os\n",
        "\n",
        "# Specify parameter sampler\n",
        "#ps  = ### YOUR CODE HERE ###\n",
        "ps=RandomParameterSampling({\n",
        "    \"C\": choice(100, 10, 1.0, 0.1, 0.01),\n",
        "    \"max_iter\": choice(range(50,200))}\n",
        ")\n",
        "\n",
        "# Specify a Policy\n",
        "#policy = ### YOUR CODE HERE ###\n",
        "policy = BanditPolicy(slack_factor = 0.1, \n",
        "                      evaluation_interval=1, \n",
        "                      delay_evaluation=5)\n",
        "\n",
        "if \"training\" not in os.listdir():\n",
        "    os.mkdir(\"./training\")\n",
        "\n",
        "# Create a SKLearn estimator for use with train.py\n",
        "#est = ### YOUR CODE HERE ###\n",
        "est = SKLearn(source_directory='.',\n",
        "            entry_script='train.py',\n",
        "            compute_target=cpu_cluster_compute_target)\n",
        "\n",
        "#est = ScriptRunConfig(source_directory=\".\",\n",
        "#                     script=\"train.py\",\n",
        "#                     compute_target=cpu_cluster_compute_target,\n",
        "#                     environment=env)\n",
        "\n",
        "# Create a HyperDriveConfig using the estimator, hyperparameter sampler, and policy.\n",
        "#hyperdrive_config = ### YOUR CODE HERE ###\n",
        "hyperdrive_config = HyperDriveConfig(estimator=est,\n",
        "                                     hyperparameter_sampling=ps, \n",
        "                                     primary_metric_name=\"Accuracy\",\n",
        "                                     primary_metric_goal=PrimaryMetricGoal.MAXIMIZE,\n",
        "                                     policy=policy,\n",
        "                                     max_total_runs=12,\n",
        "                                     max_concurrent_runs=4)"
      ]
    },
    {
      "cell_type": "code",
      "execution_count": null,
      "metadata": {
        "gather": {
          "logged": 1645348877581
        },
        "jupyter": {
          "outputs_hidden": false,
          "source_hidden": false
        },
        "nteract": {
          "transient": {
            "deleting": false
          }
        }
      },
      "outputs": [],
      "source": [
        "# Submit your hyperdrive run to the experiment and show run details with the widget.\n",
        "\n",
        "### YOUR CODE HERE ###\n",
        "hyperdrive_run = exp.submit(config=hyperdrive_config, show_output=True)\n",
        "RunDetails(hyperdrive_run).show()"
      ]
    },
    {
      "cell_type": "code",
      "execution_count": null,
      "metadata": {},
      "outputs": [],
      "source": [
        "import joblib\n",
        "# Get your best run and save the model from that run.\n",
        "\n",
        "### YOUR CODE HERE ###\n",
        "best_run = hyperdrive_run.get_best_run_by_primary_metric()\n",
        "best_run_metrics = best_run.get_metrics()\n",
        "#parameter_values = best_run.get_details()['runDefinition']['Arguments']\n",
        "\n",
        "print('Best Run Id: ', best_run.id)\n",
        "#print('\\n Accuracy:', best_run_metrics['accuracy'])\n",
        "#print('\\n C:',parameter_values[0])\n",
        "#print('\\n max_iter:',parameter_values[1])\n",
        "\n",
        "hyperdrive_run.wait_for_completion(show_output=True)\n",
        "\n",
        "os.makedirs(\"./outputs\", exist_ok=True)\n",
        "joblib.dump( value=best_run, filename='outputs/best_run_model.pkl')\n",
        "print('Model has been sucessfully saved!')"
      ]
    },
    {
      "cell_type": "code",
      "execution_count": null,
      "metadata": {
        "gather": {
          "logged": 1598275726969
        },
        "jupyter": {
          "outputs_hidden": false,
          "source_hidden": false
        },
        "nteract": {
          "transient": {
            "deleting": false
          }
        }
      },
      "outputs": [],
      "source": [
        "from azureml.data.dataset_factory import TabularDatasetFactory\n",
        "\n",
        "# Create TabularDataset using TabularDatasetFactory\n",
        "# Data is available at: \n",
        "# \"https://automlsamplenotebookdata.blob.core.windows.net/automl-sample-notebook-data/bankmarketing_train.csv\"\n",
        "\n",
        "### YOUR CODE HERE ###\n",
        "ds = TabularDatasetFactory.from_delimited_files(\"https://automlsamplenotebookdata.blob.core.windows.net/automl-sample-notebook-data/bankmarketing_train.csv\")\n",
        "\n",
        "ds = ds.register(workspace=ws, \n",
        "                name='bankmarketing',\n",
        "                description='Project 1 dataset',\n",
        "                tags={'format':'CSV'})"
      ]
    },
    {
      "cell_type": "code",
      "execution_count": null,
      "metadata": {
        "gather": {
          "logged": 1598275665403
        },
        "jupyter": {
          "outputs_hidden": false,
          "source_hidden": false
        },
        "nteract": {
          "transient": {
            "deleting": false
          }
        }
      },
      "outputs": [],
      "source": [
        "from train import clean_data\n",
        "\n",
        "# Use the clean_data function to clean your data.\n",
        "x, y = clean_data(ds)"
      ]
    },
    {
      "cell_type": "code",
      "execution_count": null,
      "metadata": {
        "jupyter": {
          "outputs_hidden": false,
          "source_hidden": false
        },
        "nteract": {
          "transient": {
            "deleting": false
          }
        }
      },
      "outputs": [],
      "source": [
        "from azureml.train.automl import AutoMLConfig\n",
        "\n",
        "# Set parameters for AutoMLConfig\n",
        "# NOTE: DO NOT CHANGE THE experiment_timeout_minutes PARAMETER OR YOUR INSTANCE WILL TIME OUT.\n",
        "# If you wish to run the experiment longer, you will need to run this notebook in your own\n",
        "# Azure tenant, which will incur personal costs.\n",
        "automl_config = AutoMLConfig(\n",
        "    experiment_timeout_minutes=30,\n",
        "    task='classification',\n",
        "    primary_metric='accuracy',\n",
        "    training_data=x,\n",
        "    label_column_name='y',\n",
        "    compute_target=cpu_cluster_compute_target,\n",
        "    n_cross_validations=5)"
      ]
    },
    {
      "cell_type": "code",
      "execution_count": null,
      "metadata": {},
      "outputs": [],
      "source": [
        "# Retrieve and save your best automl model.\n",
        "\n",
        "### YOUR CODE HERE ###\n",
        "\n",
        "exp_aml = Experiment(ws, 'autoML')\n",
        "run = exp_aml.submit(config=automl_config, show_output=True)\n",
        "\n",
        "RunDetails(run).show()\n",
        "\n",
        "run.wait_for_completion(show_output=True)\n",
        "\n",
        "os.makedirs(\"./outputs\", exist_ok=True)\n",
        "joblib.dump( value=run, filename='outputs/automml_model.pkl')\n",
        "print('Model has been sucessfully saved!')"
      ]
    }
  ],
  "metadata": {
    "kernel_info": {
      "name": "python3"
    },
    "kernelspec": {
      "display_name": "Python 3",
      "language": "python",
      "name": "python3"
    },
    "language_info": {
      "codemirror_mode": {
        "name": "ipython",
        "version": 3
      },
      "file_extension": ".py",
      "mimetype": "text/x-python",
      "name": "python",
      "nbconvert_exporter": "python",
      "pygments_lexer": "ipython3",
      "version": "3.8.3"
    },
    "microsoft": {
      "host": {
        "AzureML": {
          "notebookHasBeenCompleted": true
        }
      }
    },
    "nteract": {
      "version": "nteract-front-end@1.0.0"
    }
  },
  "nbformat": 4,
  "nbformat_minor": 2
}
